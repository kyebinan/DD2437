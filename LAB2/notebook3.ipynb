{
 "cells": [
  {
   "cell_type": "code",
   "execution_count": 1,
   "metadata": {},
   "outputs": [],
   "source": [
    "import numpy as np \n",
    "import matplotlib.pyplot as plt\n",
    "import rbf"
   ]
  },
  {
   "cell_type": "markdown",
   "metadata": {},
   "source": [
    "## 3.1 Batch mode training using least squares - supervised learning of network weights"
   ]
  },
  {
   "cell_type": "code",
   "execution_count": 2,
   "metadata": {},
   "outputs": [],
   "source": [
    "# Create the input space and corresponding training sets\n",
    "interval_start, interval_end = 0, 2 * np.pi\n",
    "step_size = 0.1\n",
    "\n",
    "X_train = np.arange(interval_start, interval_end, step_size)\n",
    "y1_train = np.sin(2 * X_train)\n",
    "y2_train = np.where(np.sin(2 * X_train) >= 0, 1, -1)\n",
    "\n",
    "# Create the testing sets\n",
    "test_interval_start = interval_start + 0.05\n",
    "X_test = np.arange(test_interval_start, interval_end, step_size)\n",
    "y1_test = np.sin(2 * X_test )\n",
    "y2_test = np.where(np.sin(2 * X_test) >= 0, 1, -1)\n",
    "\n"
   ]
  },
  {
   "cell_type": "code",
   "execution_count": 3,
   "metadata": {},
   "outputs": [
    {
     "name": "stdout",
     "output_type": "stream",
     "text": [
      "(63, 2)\n"
     ]
    }
   ],
   "source": [
    "# Number of RBF nodes \n",
    "n = 2\n",
    "# Place RBF nodes evenly spaced in the input space\n",
    "centers = np.linspace(interval_start, interval_end, n)\n",
    "# Set a common variance for all nodes\n",
    "variance = 0.1\n",
    "\n",
    "network = rbf.RBFNetwork(centers[:, np.newaxis], variance)\n",
    "network.batch_least_squares(X_train[:, np.newaxis], y1_train[:, np.newaxis])"
   ]
  },
  {
   "cell_type": "code",
   "execution_count": null,
   "metadata": {},
   "outputs": [],
   "source": [
    "\n",
    "\n",
    "# Plot the results\n",
    "plt.figure(figsize=(12, 6))\n",
    "\n",
    "# plt.subplot(2, 2, 1)\n",
    "# plt.plot(X_train, y1_train, label='True Function')\n",
    "# plt.plot(X_test, predicted_y1, label='Predicted Function')\n",
    "# plt.title('sin(2x) Approximation')\n",
    "# plt.legend()\n",
    "\n",
    "# plt.subplot(2, 2, 2)\n",
    "# plt.plot(train_x, train_y2, label='True Function')\n",
    "# plt.plot(test_x, predicted_y2, label='Predicted Function')\n",
    "# plt.title('square(2x) Approximation')\n",
    "# plt.legend()\n",
    "\n",
    "# plt.subplot(2, 2, 3)\n",
    "# plt.plot(rbf_nodes, weights1, marker='o')\n",
    "# plt.title('Weights for sin(2x) Approximation')\n",
    "\n",
    "# plt.subplot(2, 2, 4)\n",
    "# plt.plot(rbf_nodes, weights2, marker='o')\n",
    "# plt.title('Weights for square(2x) Approximation')\n",
    "\n",
    "# plt.tight_layout()\n",
    "# plt.show()"
   ]
  },
  {
   "cell_type": "code",
   "execution_count": null,
   "metadata": {},
   "outputs": [],
   "source": []
  },
  {
   "cell_type": "code",
   "execution_count": null,
   "metadata": {},
   "outputs": [],
   "source": []
  }
 ],
 "metadata": {
  "kernelspec": {
   "display_name": "base",
   "language": "python",
   "name": "python3"
  },
  "language_info": {
   "codemirror_mode": {
    "name": "ipython",
    "version": 3
   },
   "file_extension": ".py",
   "mimetype": "text/x-python",
   "name": "python",
   "nbconvert_exporter": "python",
   "pygments_lexer": "ipython3",
   "version": "3.9.12"
  }
 },
 "nbformat": 4,
 "nbformat_minor": 2
}
