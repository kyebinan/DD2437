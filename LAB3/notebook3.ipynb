{
 "cells": [
  {
   "cell_type": "code",
   "execution_count": 1,
   "metadata": {},
   "outputs": [],
   "source": [
    "import utils as  utl\n",
    "import numpy as np\n",
    "import matplotlib.pyplot as plt\n",
    "import pandas as pd\n",
    "from matplotlib.colors import ListedColormap"
   ]
  },
  {
   "cell_type": "markdown",
   "metadata": {},
   "source": [
    "# Convergence and attractors\n",
    "In this phase, we input three memory patterns consisting of 2x4 pixel black-and-white images. Our objective is to test the network's ability to recall the stored patterns even when presented with distorted input patterns."
   ]
  },
  {
   "cell_type": "code",
   "execution_count": 5,
   "metadata": {},
   "outputs": [],
   "source": [
    "#======================== CONSTANTS ========================\n",
    "# Color map for displaying images with two distinct colors : black and white\n",
    "cmap = ListedColormap(['black', 'white'])"
   ]
  },
  {
   "cell_type": "code",
   "execution_count": 11,
   "metadata": {},
   "outputs": [],
   "source": [
    "#========== CREATE PATTERNS ==========\n",
    "# Patterns \n",
    "x1=[-1,-1, 1, -1, 1, -1, -1, 1]\n",
    "x2=[-1, -1, -1, -1, -1, 1, -1, -1]\n",
    "x3=[-1, 1, 1, -1, -1, 1, -1, 1]\n",
    "# Convert patterns from list to numpy array\n",
    "pattern1 = np.array(x1)\n",
    "pattern2 = np.array(x2)\n",
    "pattern3 = np.array(x3)\n",
    "patterns = [pattern1, pattern2, pattern3]"
   ]
  },
  {
   "cell_type": "code",
   "execution_count": 14,
   "metadata": {},
   "outputs": [
    {
     "data": {
      "image/png": "[encoded data removed]",
      "text/plain": [
       "<Figure size 432x288 with 3 Axes>"
      ]
     },
     "metadata": {
      "needs_background": "light"
     },
     "output_type": "display_data"
    }
   ],
   "source": [
    "\n",
    "#========== PLOT PATTERNS ==========\n",
    "for i, pattern in enumerate(patterns):\n",
    "    plt.subplot(1, 3, i+1)\n",
    "    plt.imshow(pattern.reshape((2,4)), cmap=cmap)\n",
    "    plt.title(f'p{i+1}')\n",
    "    plt.axis('off')\n",
    "plt.show()"
   ]
  },
  {
   "cell_type": "code",
   "execution_count": 15,
   "metadata": {},
   "outputs": [],
   "source": [
    "#========== INSTANCIATE AND TRAIN HOPFIELD NETWORK ==========\n",
    "num_neurons = len(patterns[0])\n",
    "hopfield_net = utl.LittleHopfieldNetwork(num_neurons)\n",
    "hopfield_net.train(patterns)"
   ]
  },
  {
   "cell_type": "code",
   "execution_count": 16,
   "metadata": {},
   "outputs": [],
   "source": [
    "#========== CREATE DISTORTED PATTERNS ==========\n",
    "# distorted patterns \n",
    "x1d=[1, -1, 1, -1, 1, -1, -1, 1]\n",
    "x2d=[1, 1, -1, -1, -1, 1, -1, -1]\n",
    "x3d=[1, 1, 1, -1, 1, 1, -1, 1]\n",
    "# Convert patterns from list to numpy array\n",
    "pattern1d = np.array(x1d)\n",
    "pattern2d = np.array(x2d)\n",
    "pattern3d = np.array(x3d)\n",
    "distortedPat = [pattern1d, pattern2d, pattern3d]"
   ]
  },
  {
   "cell_type": "code",
   "execution_count": 19,
   "metadata": {},
   "outputs": [
    {
     "data": {
      "image/png": "[encoded data removed]",
      "text/plain": [
       "<Figure size 432x288 with 3 Axes>"
      ]
     },
     "metadata": {
      "needs_background": "light"
     },
     "output_type": "display_data"
    },
    {
     "data": {
      "image/png": "[encoded data removed]",
      "text/plain": [
       "<Figure size 432x288 with 3 Axes>"
      ]
     },
     "metadata": {
      "needs_background": "light"
     },
     "output_type": "display_data"
    }
   ],
   "source": [
    "#========== PLOT PATTERNS ==========\n",
    "for i, pattern in enumerate(patterns):\n",
    "    plt.subplot(1, 3, i+1)\n",
    "    plt.imshow(pattern.reshape((2,4)), cmap=cmap)\n",
    "    plt.title(f'p{i+1}')\n",
    "    plt.axis('off')\n",
    "plt.show()\n",
    "\n",
    "for i, pattern in enumerate(distortedPat):\n",
    "    plt.subplot(1, 3, i+1)\n",
    "    plt.imshow(pattern.reshape((2,4)), cmap=cmap)\n",
    "    plt.title(f'x{i+1}d')\n",
    "    plt.axis('off')\n",
    "plt.show()"
   ]
  },
  {
   "cell_type": "code",
   "execution_count": 20,
   "metadata": {},
   "outputs": [],
   "source": [
    "#========== USE RECALL FUNCTION ==========\n",
    "recalledPat = []\n",
    "for pattern in distortedPat:\n",
    "    newPattern = hopfield_net.recall( pattern, update_type='synchronous', max_iterations=100)\n",
    "    recalledPat.append(newPattern)"
   ]
  },
  {
   "cell_type": "code",
   "execution_count": 21,
   "metadata": {},
   "outputs": [
    {
     "data": {
      "image/png": "[encoded data removed]",
      "text/plain": [
       "<Figure size 432x288 with 3 Axes>"
      ]
     },
     "metadata": {
      "needs_background": "light"
     },
     "output_type": "display_data"
    },
    {
     "data": {
      "image/png": "[encoded data removed]",
      "text/plain": [
       "<Figure size 432x288 with 3 Axes>"
      ]
     },
     "metadata": {
      "needs_background": "light"
     },
     "output_type": "display_data"
    },
    {
     "data": {
      "image/png": "[encoded data removed]",
      "text/plain": [
       "<Figure size 432x288 with 3 Axes>"
      ]
     },
     "metadata": {
      "needs_background": "light"
     },
     "output_type": "display_data"
    }
   ],
   "source": [
    "#========== PLOT PATTERNS ==========\n",
    "for i, pattern in enumerate(patterns):\n",
    "    plt.subplot(1, 3, i+1)\n",
    "    plt.imshow(pattern.reshape((2,4)), cmap=cmap)\n",
    "    plt.title(f'p{i+1}')\n",
    "    plt.axis('off')\n",
    "plt.show()\n",
    "\n",
    "for i, pattern in enumerate(distortedPat):\n",
    "    plt.subplot(1, 3, i+1)\n",
    "    plt.imshow(pattern.reshape((2,4)), cmap=cmap)\n",
    "    plt.title(f'x{i+1}d')\n",
    "    plt.axis('off')\n",
    "plt.show()\n",
    "\n",
    "for i, pattern in enumerate(recalledPat):\n",
    "    plt.subplot(1, 3, i+1)\n",
    "    plt.imshow(pattern.reshape((2,4)), cmap=cmap)\n",
    "    plt.title(f'rp{i+1}')\n",
    "    plt.axis('off')\n",
    "plt.show()"
   ]
  },
  {
   "cell_type": "markdown",
   "metadata": {},
   "source": [
    "### Partial Conclusion\n",
    "The network demonstrates effective pattern recall when faced with distorted input patterns, particularly succeeding when the presented pattern exhibits fewer than one error. In such cases, the network efficiently endeavors to converge towards the closest stored pattern, showcasing its ability to mitigate distortions and accurately retrieve the intended information."
   ]
  },
  {
   "cell_type": "markdown",
   "metadata": {},
   "source": [
    "# Sequential Update \n",
    "\n",
    "So far we have only used a very small 8-neuron network. Now we will switch\n",
    "to a 1024-neuron network and picture patterns."
   ]
  },
  {
   "cell_type": "code",
   "execution_count": null,
   "metadata": {},
   "outputs": [],
   "source": []
  },
  {
   "cell_type": "code",
   "execution_count": null,
   "metadata": {},
   "outputs": [],
   "source": []
  },
  {
   "cell_type": "markdown",
   "metadata": {},
   "source": []
  }
 ],
 "metadata": {
  "kernelspec": {
   "display_name": "base",
   "language": "python",
   "name": "python3"
  },
  "language_info": {
   "codemirror_mode": {
    "name": "ipython",
    "version": 3
   },
   "file_extension": ".py",
   "mimetype": "text/x-python",
   "name": "python",
   "nbconvert_exporter": "python",
   "pygments_lexer": "ipython3",
   "version": "3.9.12"
  }
 },
 "nbformat": 4,
 "nbformat_minor": 2
}
