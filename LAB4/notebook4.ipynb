{
 "cells": [
  {
   "cell_type": "code",
   "execution_count": 1,
   "metadata": {},
   "outputs": [],
   "source": [
    "import utils as  utl\n",
    "import numpy as np\n",
    "import matplotlib.pyplot as plt\n",
    "import pandas as pd\n",
    "import os\n",
    "from matplotlib.colors import ListedColormap"
   ]
  },
  {
   "cell_type": "markdown",
   "metadata": {},
   "source": [
    "# Convergence and attractors\n",
    "In this phase, we input three memory patterns consisting of 2x4 pixel black-and-white images. Our objective is to test the network's ability to recall the stored patterns even when presented with distorted input patterns."
   ]
  },
  {
   "cell_type": "code",
   "execution_count": 2,
   "metadata": {},
   "outputs": [],
   "source": [
    "#======================== CONSTANTS ========================\n",
    "# Color map for displaying images with two distinct colors : black and white\n",
    "cmap = ListedColormap(['black', 'white'])"
   ]
  },
  {
   "cell_type": "code",
   "execution_count": 3,
   "metadata": {},
   "outputs": [],
   "source": [
    "#========== CREATE PATTERNS ==========\n",
    "# Patterns \n",
    "x1=[-1,-1, 1, -1, 1, -1, -1, 1]\n",
    "x2=[-1, -1, -1, -1, -1, 1, -1, -1]\n",
    "x3=[-1, 1, 1, -1, -1, 1, -1, 1]\n",
    "# Convert patterns from list to numpy array\n",
    "pattern1 = np.array(x1)\n",
    "pattern2 = np.array(x2)\n",
    "pattern3 = np.array(x3)\n",
    "patterns = [pattern1, pattern2, pattern3]"
   ]
  },
  {
   "cell_type": "code",
   "execution_count": 4,
   "metadata": {},
   "outputs": [
    {
     "data": {
      "image/png": "[encoded data removed]",
      "text/plain": [
       "<Figure size 432x288 with 3 Axes>"
      ]
     },
     "metadata": {
      "needs_background": "light"
     },
     "output_type": "display_data"
    }
   ],
   "source": [
    "\n",
    "#========== PLOT PATTERNS ==========\n",
    "for i, pattern in enumerate(patterns):\n",
    "    plt.subplot(1, 3, i+1)\n",
    "    plt.imshow(pattern.reshape((2,4)), cmap=cmap)\n",
    "    plt.title(f'p{i+1}')\n",
    "    plt.axis('off')\n",
    "plt.show()"
   ]
  },
  {
   "cell_type": "code",
   "execution_count": 5,
   "metadata": {},
   "outputs": [],
   "source": [
    "#========== INSTANCIATE AND TRAIN HOPFIELD NETWORK ==========\n",
    "num_neurons = len(patterns[0])\n",
    "hopfield_net = utl.LittleHopfieldNetwork(num_neurons)\n",
    "hopfield_net.train(patterns)"
   ]
  },
  {
   "cell_type": "code",
   "execution_count": 6,
   "metadata": {},
   "outputs": [],
   "source": [
    "#========== CREATE DISTORTED PATTERNS ==========\n",
    "# distorted patterns \n",
    "x1d=[1, -1, 1, -1, 1, -1, -1, 1]\n",
    "x2d=[1, 1, -1, -1, -1, 1, -1, -1]\n",
    "x3d=[1, 1, 1, -1, 1, 1, -1, 1]\n",
    "# Convert patterns from list to numpy array\n",
    "pattern1d = np.array(x1d)\n",
    "pattern2d = np.array(x2d)\n",
    "pattern3d = np.array(x3d)\n",
    "distortedPat = [pattern1d, pattern2d, pattern3d]"
   ]
  },
  {
   "cell_type": "code",
   "execution_count": 7,
   "metadata": {},
   "outputs": [
    {
     "data": {
      "image/png": "[encoded data removed]",
      "text/plain": [
       "<Figure size 432x288 with 3 Axes>"
      ]
     },
     "metadata": {
      "needs_background": "light"
     },
     "output_type": "display_data"
    },
    {
     "data": {
      "image/png": "[encoded data removed]",
      "text/plain": [
       "<Figure size 432x288 with 3 Axes>"
      ]
     },
     "metadata": {
      "needs_background": "light"
     },
     "output_type": "display_data"
    }
   ],
   "source": [
    "#========== PLOT PATTERNS ==========\n",
    "for i, pattern in enumerate(patterns):\n",
    "    plt.subplot(1, 3, i+1)\n",
    "    plt.imshow(pattern.reshape((2,4)), cmap=cmap)\n",
    "    plt.title(f'p{i+1}')\n",
    "    plt.axis('off')\n",
    "plt.show()\n",
    "\n",
    "for i, pattern in enumerate(distortedPat):\n",
    "    plt.subplot(1, 3, i+1)\n",
    "    plt.imshow(pattern.reshape((2,4)), cmap=cmap)\n",
    "    plt.title(f'x{i+1}d')\n",
    "    plt.axis('off')\n",
    "plt.show()"
   ]
  },
  {
   "cell_type": "code",
   "execution_count": 8,
   "metadata": {},
   "outputs": [],
   "source": [
    "#========== USE RECALL FUNCTION ==========\n",
    "recalledPat = []\n",
    "for pattern in distortedPat:\n",
    "    newPattern = hopfield_net.recall( pattern, update_type='synchronous', max_iterations=100)\n",
    "    recalledPat.append(newPattern)"
   ]
  },
  {
   "cell_type": "code",
   "execution_count": 9,
   "metadata": {},
   "outputs": [
    {
     "data": {
      "image/png": "[encoded data removed]",
      "text/plain": [
       "<Figure size 432x288 with 3 Axes>"
      ]
     },
     "metadata": {
      "needs_background": "light"
     },
     "output_type": "display_data"
    },
    {
     "data": {
      "image/png": "[encoded data removed]",
      "text/plain": [
       "<Figure size 432x288 with 3 Axes>"
      ]
     },
     "metadata": {
      "needs_background": "light"
     },
     "output_type": "display_data"
    },
    {
     "data": {
      "image/png": "[encoded data removed]",
      "text/plain": [
       "<Figure size 432x288 with 3 Axes>"
      ]
     },
     "metadata": {
      "needs_background": "light"
     },
     "output_type": "display_data"
    }
   ],
   "source": [
    "#========== PLOT PATTERNS ==========\n",
    "for i, pattern in enumerate(patterns):\n",
    "    plt.subplot(1, 3, i+1)\n",
    "    plt.imshow(pattern.reshape((2,4)), cmap=cmap)\n",
    "    plt.title(f'p{i+1}')\n",
    "    plt.axis('off')\n",
    "plt.show()\n",
    "\n",
    "for i, pattern in enumerate(distortedPat):\n",
    "    plt.subplot(1, 3, i+1)\n",
    "    plt.imshow(pattern.reshape((2,4)), cmap=cmap)\n",
    "    plt.title(f'x{i+1}d')\n",
    "    plt.axis('off')\n",
    "plt.show()\n",
    "\n",
    "for i, pattern in enumerate(recalledPat):\n",
    "    plt.subplot(1, 3, i+1)\n",
    "    plt.imshow(pattern.reshape((2,4)), cmap=cmap)\n",
    "    plt.title(f'rp{i+1}')\n",
    "    plt.axis('off')\n",
    "plt.show()"
   ]
  },
  {
   "cell_type": "markdown",
   "metadata": {},
   "source": [
    "### Partial Conclusion\n",
    "The network demonstrates effective pattern recall when faced with distorted input patterns, particularly succeeding when the presented pattern exhibits fewer than one error. In such cases, the network efficiently endeavors to converge towards the closest stored pattern, showcasing its ability to mitigate distortions and accurately retrieve the intended information."
   ]
  },
  {
   "cell_type": "markdown",
   "metadata": {},
   "source": [
    "# Sequential Update \n",
    "\n",
    "So far we have only used a very small 8-neuron network. Now we will switch\n",
    "to a 1024-neuron network and picture patterns."
   ]
  },
  {
   "cell_type": "code",
   "execution_count": 15,
   "metadata": {},
   "outputs": [
    {
     "name": "stdout",
     "output_type": "stream",
     "text": [
      "(1024,)\n"
     ]
    }
   ],
   "source": [
    "#========== LOAD PATTERNS FROM .DAT FILE==========\n",
    "file_path = os.path.join(\"..\", \"DATA\", \"pict.dat\")\n",
    "\n",
    "with open(file_path, \"r\") as file:\n",
    "    content = file.read()\n",
    "    array_values = [int(value) for value in content.split(',')]\n",
    "    array_values =  np.array(array_values)\n",
    "\n",
    "patterns1024 = np.array_split(array_values, 11)\n",
    "print(patterns1024[0].shape)"
   ]
  },
  {
   "cell_type": "code",
   "execution_count": 17,
   "metadata": {},
   "outputs": [
    {
     "data": {
      "image/png": "[encoded data removed]",
      "text/plain": [
       "<Figure size 432x288 with 11 Axes>"
      ]
     },
     "metadata": {
      "needs_background": "light"
     },
     "output_type": "display_data"
    }
   ],
   "source": [
    "#========== PLOT PATTERNS ==========\n",
    "for i, pattern in enumerate(patterns1024):\n",
    "    plt.subplot(3, 4, i+1)\n",
    "    plt.imshow(pattern.reshape((32,32)), cmap=cmap)\n",
    "    plt.title(f'p{i+1}')\n",
    "    plt.axis('off')\n",
    "plt.show()"
   ]
  },
  {
   "cell_type": "code",
   "execution_count": 30,
   "metadata": {},
   "outputs": [],
   "source": [
    "#========== INSTANCIATE AND TRAIN HOPFIELD NETWORK ==========\n",
    "num_neurons = len(patterns1024[0])\n",
    "hopfield_net = utl.LittleHopfieldNetwork(num_neurons)\n",
    "hopfield_net.train(patterns1024[:3])"
   ]
  },
  {
   "cell_type": "code",
   "execution_count": 31,
   "metadata": {},
   "outputs": [],
   "source": [
    "#========== USE RECALL FUNCTION PATTERNS P1, P2, AND P3==========\n",
    "recalledPat = []\n",
    "for pattern in patterns1024[:3]:\n",
    "    newPattern = hopfield_net.recall( pattern, update_type='asynchronous', max_iterations=100)\n",
    "    recalledPat.append(newPattern)"
   ]
  },
  {
   "cell_type": "code",
   "execution_count": 34,
   "metadata": {},
   "outputs": [
    {
     "data": {
      "image/png": "[encoded data removed]",
      "text/plain": [
       "<Figure size 432x288 with 3 Axes>"
      ]
     },
     "metadata": {
      "needs_background": "light"
     },
     "output_type": "display_data"
    },
    {
     "data": {
      "image/png": "[encoded data removed]",
      "text/plain": [
       "<Figure size 432x288 with 3 Axes>"
      ]
     },
     "metadata": {
      "needs_background": "light"
     },
     "output_type": "display_data"
    }
   ],
   "source": [
    "#========== PLOT PATTERNS ==========\n",
    "for i, pattern in enumerate(patterns1024[:3]):\n",
    "    plt.subplot(1, 3, i+1)\n",
    "    plt.imshow(pattern.reshape((32,32)), cmap=cmap)\n",
    "    plt.title(f'p{i+1}')\n",
    "    plt.axis('off')\n",
    "plt.show()\n",
    "\n",
    "for i, pattern in enumerate(recalledPat):\n",
    "    plt.subplot(1, 3, i+1)\n",
    "    plt.imshow(pattern.reshape((32,32)), cmap=cmap)\n",
    "    plt.title(f'rp{i+1}')\n",
    "    plt.axis('off')\n",
    "plt.show()"
   ]
  },
  {
   "cell_type": "code",
   "execution_count": 35,
   "metadata": {},
   "outputs": [],
   "source": [
    "#========== USE RECALL FUNCTION ==========\n",
    "recalledPat = []\n",
    "for pattern in patterns1024[9:]:\n",
    "    newPattern = hopfield_net.recall( pattern, update_type='asynchronous', max_iterations=100)\n",
    "    recalledPat.append(newPattern)"
   ]
  },
  {
   "cell_type": "code",
   "execution_count": 36,
   "metadata": {},
   "outputs": [
    {
     "data": {
      "image/png": "[encoded data removed]",
      "text/plain": [
       "<Figure size 432x288 with 2 Axes>"
      ]
     },
     "metadata": {
      "needs_background": "light"
     },
     "output_type": "display_data"
    },
    {
     "data": {
      "image/png": "[encoded data removed]",
      "text/plain": [
       "<Figure size 432x288 with 2 Axes>"
      ]
     },
     "metadata": {
      "needs_background": "light"
     },
     "output_type": "display_data"
    }
   ],
   "source": [
    "#========== PLOT PATTERNS ==========\n",
    "for i, pattern in enumerate(patterns1024[9:]):\n",
    "    plt.subplot(1, 2, i+1)\n",
    "    plt.imshow(pattern.reshape((32,32)), cmap=cmap)\n",
    "    plt.title(f'p{i+9}')\n",
    "    plt.axis('off')\n",
    "plt.show()\n",
    "\n",
    "for i, pattern in enumerate(recalledPat):\n",
    "    plt.subplot(1, 2, i+1)\n",
    "    plt.imshow(pattern.reshape((32,32)), cmap=cmap)\n",
    "    plt.title(f'rp{i+1}')\n",
    "    plt.axis('off')\n",
    "plt.show()"
   ]
  },
  {
   "cell_type": "markdown",
   "metadata": {},
   "source": [
    "### Partial Conclusion\n",
    "\n",
    "Hopfield networks, a type of recurrent artificial neural network, have limitations that can affect their ability to recall patterns. Here are some cases in which a Hopfield network may not successfully recall a pattern:\n",
    "\n",
    "- Hopfield networks have a limited capacity in terms of the number of patterns they can reliably store and recall. If the network is overloaded with too many patterns, it may not be able to recall any specific pattern accurately\n",
    "\n",
    "- Hopfield networks work by converging to stable states, which are attractors in the energy landscape. However, it's possible for a network to converge to a spurious or unintended attractor state instead of the desired pattern.\n",
    "\n",
    "- The energy landscape of a Hopfield network may have local minima that are not the desired patterns. The network might get stuck in these local minima during the recall process.\n",
    "\n",
    "In the subsequent phase of this laboratory investigation, our focus will be directed towards comprehending the pivotal role played by energy in influencing the capacity of the network to recall and retain a given pattern."
   ]
  },
  {
   "cell_type": "markdown",
   "metadata": {},
   "source": [
    "# Energy"
   ]
  },
  {
   "cell_type": "code",
   "execution_count": null,
   "metadata": {},
   "outputs": [],
   "source": []
  },
  {
   "cell_type": "code",
   "execution_count": null,
   "metadata": {},
   "outputs": [],
   "source": []
  },
  {
   "cell_type": "code",
   "execution_count": null,
   "metadata": {},
   "outputs": [],
   "source": []
  },
  {
   "cell_type": "markdown",
   "metadata": {},
   "source": []
  }
 ],
 "metadata": {
  "kernelspec": {
   "display_name": "base",
   "language": "python",
   "name": "python3"
  },
  "language_info": {
   "codemirror_mode": {
    "name": "ipython",
    "version": 3
   },
   "file_extension": ".py",
   "mimetype": "text/x-python",
   "name": "python",
   "nbconvert_exporter": "python",
   "pygments_lexer": "ipython3",
   "version": "3.9.12"
  }
 },
 "nbformat": 4,
 "nbformat_minor": 2
}
